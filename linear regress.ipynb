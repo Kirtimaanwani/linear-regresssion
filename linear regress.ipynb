{
 "cells": [
  {
   "cell_type": "code",
   "execution_count": 33,
   "metadata": {},
   "outputs": [],
   "source": [
    "import pandas as pd\n",
    "import seaborn as sns\n",
    "import matplotlib.pyplot as plt\n",
    "%matplotlib inline\n",
    "import numpy as np"
   ]
  },
  {
   "cell_type": "markdown",
   "metadata": {},
   "source": [
    "## Import the dataset in the attached CSV file"
   ]
  },
  {
   "cell_type": "code",
   "execution_count": 28,
   "metadata": {},
   "outputs": [],
   "source": [
    "collection = pd.read_csv(\"Movie_collection_train.csv\")"
   ]
  },
  {
   "cell_type": "code",
   "execution_count": 31,
   "metadata": {},
   "outputs": [
    {
     "data": {
      "text/html": [
       "<div>\n",
       "<style scoped>\n",
       "    .dataframe tbody tr th:only-of-type {\n",
       "        vertical-align: middle;\n",
       "    }\n",
       "\n",
       "    .dataframe tbody tr th {\n",
       "        vertical-align: top;\n",
       "    }\n",
       "\n",
       "    .dataframe thead th {\n",
       "        text-align: right;\n",
       "    }\n",
       "</style>\n",
       "<table border=\"1\" class=\"dataframe\">\n",
       "  <thead>\n",
       "    <tr style=\"text-align: right;\">\n",
       "      <th></th>\n",
       "      <th>Collection</th>\n",
       "      <th>Marketin_expense</th>\n",
       "      <th>Production_expense</th>\n",
       "      <th>Multiplex_coverage</th>\n",
       "      <th>Budget</th>\n",
       "      <th>Movie_length</th>\n",
       "      <th>Lead_ Actor_Rating</th>\n",
       "      <th>Lead_Actress_rating</th>\n",
       "      <th>Director_rating</th>\n",
       "      <th>Producer_rating</th>\n",
       "      <th>Critic_rating</th>\n",
       "      <th>Trailer_views</th>\n",
       "      <th>Time_taken</th>\n",
       "      <th>Twitter_hastags</th>\n",
       "      <th>Genre</th>\n",
       "      <th>Avg_age_actors</th>\n",
       "      <th>MPAA_film_rating</th>\n",
       "      <th>Num_multiplex</th>\n",
       "      <th>3D_available</th>\n",
       "    </tr>\n",
       "  </thead>\n",
       "  <tbody>\n",
       "    <tr>\n",
       "      <th>0</th>\n",
       "      <td>48000</td>\n",
       "      <td>20.1264</td>\n",
       "      <td>59.62</td>\n",
       "      <td>0.462</td>\n",
       "      <td>36524.125</td>\n",
       "      <td>138.7</td>\n",
       "      <td>7.825</td>\n",
       "      <td>8.095</td>\n",
       "      <td>7.910</td>\n",
       "      <td>7.995</td>\n",
       "      <td>7.94</td>\n",
       "      <td>527367</td>\n",
       "      <td>109.60</td>\n",
       "      <td>223.840</td>\n",
       "      <td>Thriller</td>\n",
       "      <td>23</td>\n",
       "      <td>PG</td>\n",
       "      <td>494</td>\n",
       "      <td>YES</td>\n",
       "    </tr>\n",
       "    <tr>\n",
       "      <th>1</th>\n",
       "      <td>43200</td>\n",
       "      <td>20.5462</td>\n",
       "      <td>69.14</td>\n",
       "      <td>0.531</td>\n",
       "      <td>35668.655</td>\n",
       "      <td>152.4</td>\n",
       "      <td>7.505</td>\n",
       "      <td>7.650</td>\n",
       "      <td>7.440</td>\n",
       "      <td>7.470</td>\n",
       "      <td>7.44</td>\n",
       "      <td>494055</td>\n",
       "      <td>146.64</td>\n",
       "      <td>243.456</td>\n",
       "      <td>Drama</td>\n",
       "      <td>42</td>\n",
       "      <td>PG</td>\n",
       "      <td>462</td>\n",
       "      <td>NO</td>\n",
       "    </tr>\n",
       "    <tr>\n",
       "      <th>2</th>\n",
       "      <td>69400</td>\n",
       "      <td>20.5458</td>\n",
       "      <td>69.14</td>\n",
       "      <td>0.531</td>\n",
       "      <td>39912.675</td>\n",
       "      <td>134.6</td>\n",
       "      <td>7.485</td>\n",
       "      <td>7.570</td>\n",
       "      <td>7.495</td>\n",
       "      <td>7.515</td>\n",
       "      <td>7.44</td>\n",
       "      <td>547051</td>\n",
       "      <td>147.88</td>\n",
       "      <td>2022.400</td>\n",
       "      <td>Comedy</td>\n",
       "      <td>38</td>\n",
       "      <td>PG</td>\n",
       "      <td>458</td>\n",
       "      <td>NO</td>\n",
       "    </tr>\n",
       "    <tr>\n",
       "      <th>3</th>\n",
       "      <td>66800</td>\n",
       "      <td>20.6474</td>\n",
       "      <td>59.36</td>\n",
       "      <td>0.542</td>\n",
       "      <td>38873.890</td>\n",
       "      <td>119.3</td>\n",
       "      <td>6.895</td>\n",
       "      <td>7.035</td>\n",
       "      <td>6.920</td>\n",
       "      <td>7.020</td>\n",
       "      <td>8.26</td>\n",
       "      <td>516279</td>\n",
       "      <td>185.36</td>\n",
       "      <td>225.344</td>\n",
       "      <td>Drama</td>\n",
       "      <td>45</td>\n",
       "      <td>PG</td>\n",
       "      <td>472</td>\n",
       "      <td>YES</td>\n",
       "    </tr>\n",
       "    <tr>\n",
       "      <th>4</th>\n",
       "      <td>72400</td>\n",
       "      <td>21.3810</td>\n",
       "      <td>59.36</td>\n",
       "      <td>0.542</td>\n",
       "      <td>39701.585</td>\n",
       "      <td>127.7</td>\n",
       "      <td>6.920</td>\n",
       "      <td>7.070</td>\n",
       "      <td>6.815</td>\n",
       "      <td>7.070</td>\n",
       "      <td>8.26</td>\n",
       "      <td>531448</td>\n",
       "      <td>176.48</td>\n",
       "      <td>225.792</td>\n",
       "      <td>Drama</td>\n",
       "      <td>55</td>\n",
       "      <td>PG</td>\n",
       "      <td>395</td>\n",
       "      <td>NO</td>\n",
       "    </tr>\n",
       "  </tbody>\n",
       "</table>\n",
       "</div>"
      ],
      "text/plain": [
       "   Collection  Marketin_expense  Production_expense  Multiplex_coverage  \\\n",
       "0       48000           20.1264               59.62               0.462   \n",
       "1       43200           20.5462               69.14               0.531   \n",
       "2       69400           20.5458               69.14               0.531   \n",
       "3       66800           20.6474               59.36               0.542   \n",
       "4       72400           21.3810               59.36               0.542   \n",
       "\n",
       "      Budget  Movie_length  Lead_ Actor_Rating  Lead_Actress_rating  \\\n",
       "0  36524.125         138.7               7.825                8.095   \n",
       "1  35668.655         152.4               7.505                7.650   \n",
       "2  39912.675         134.6               7.485                7.570   \n",
       "3  38873.890         119.3               6.895                7.035   \n",
       "4  39701.585         127.7               6.920                7.070   \n",
       "\n",
       "   Director_rating  Producer_rating  Critic_rating  Trailer_views  Time_taken  \\\n",
       "0            7.910            7.995           7.94         527367      109.60   \n",
       "1            7.440            7.470           7.44         494055      146.64   \n",
       "2            7.495            7.515           7.44         547051      147.88   \n",
       "3            6.920            7.020           8.26         516279      185.36   \n",
       "4            6.815            7.070           8.26         531448      176.48   \n",
       "\n",
       "   Twitter_hastags     Genre  Avg_age_actors MPAA_film_rating  Num_multiplex  \\\n",
       "0          223.840  Thriller              23               PG            494   \n",
       "1          243.456     Drama              42               PG            462   \n",
       "2         2022.400    Comedy              38               PG            458   \n",
       "3          225.344     Drama              45               PG            472   \n",
       "4          225.792     Drama              55               PG            395   \n",
       "\n",
       "  3D_available  \n",
       "0          YES  \n",
       "1           NO  \n",
       "2           NO  \n",
       "3          YES  \n",
       "4           NO  "
      ]
     },
     "execution_count": 31,
     "metadata": {},
     "output_type": "execute_result"
    }
   ],
   "source": [
    "collection.head()"
   ]
  },
  {
   "cell_type": "markdown",
   "metadata": {},
   "source": [
    "## Do EDD of the movie dataset and list down you observations."
   ]
  },
  {
   "cell_type": "code",
   "execution_count": 7,
   "metadata": {},
   "outputs": [
    {
     "data": {
      "text/html": [
       "<div>\n",
       "<style scoped>\n",
       "    .dataframe tbody tr th:only-of-type {\n",
       "        vertical-align: middle;\n",
       "    }\n",
       "\n",
       "    .dataframe tbody tr th {\n",
       "        vertical-align: top;\n",
       "    }\n",
       "\n",
       "    .dataframe thead th {\n",
       "        text-align: right;\n",
       "    }\n",
       "</style>\n",
       "<table border=\"1\" class=\"dataframe\">\n",
       "  <thead>\n",
       "    <tr style=\"text-align: right;\">\n",
       "      <th></th>\n",
       "      <th>Marketin_expense</th>\n",
       "      <th>Production_expense</th>\n",
       "      <th>Multiplex_coverage</th>\n",
       "      <th>Budget</th>\n",
       "      <th>Movie_length</th>\n",
       "      <th>Lead_ Actor_Rating</th>\n",
       "      <th>Lead_Actress_rating</th>\n",
       "      <th>Director_rating</th>\n",
       "      <th>Producer_rating</th>\n",
       "      <th>Critic_rating</th>\n",
       "      <th>Trailer_views</th>\n",
       "      <th>Time_taken</th>\n",
       "      <th>Twitter_hastags</th>\n",
       "      <th>Avg_age_actors</th>\n",
       "      <th>Num_multiplex</th>\n",
       "    </tr>\n",
       "  </thead>\n",
       "  <tbody>\n",
       "    <tr>\n",
       "      <th>count</th>\n",
       "      <td>400.000000</td>\n",
       "      <td>400.000000</td>\n",
       "      <td>400.000000</td>\n",
       "      <td>400.000000</td>\n",
       "      <td>400.000000</td>\n",
       "      <td>400.000000</td>\n",
       "      <td>400.000000</td>\n",
       "      <td>400.000000</td>\n",
       "      <td>400.000000</td>\n",
       "      <td>400.000000</td>\n",
       "      <td>400.000000</td>\n",
       "      <td>392.000000</td>\n",
       "      <td>400.000000</td>\n",
       "      <td>400.000000</td>\n",
       "      <td>400.000000</td>\n",
       "    </tr>\n",
       "    <tr>\n",
       "      <th>mean</th>\n",
       "      <td>55.017180</td>\n",
       "      <td>73.832700</td>\n",
       "      <td>0.469881</td>\n",
       "      <td>35197.771537</td>\n",
       "      <td>137.581750</td>\n",
       "      <td>7.810275</td>\n",
       "      <td>7.982812</td>\n",
       "      <td>7.813375</td>\n",
       "      <td>7.993887</td>\n",
       "      <td>7.894100</td>\n",
       "      <td>463223.567500</td>\n",
       "      <td>157.790000</td>\n",
       "      <td>258.083840</td>\n",
       "      <td>38.715000</td>\n",
       "      <td>523.650000</td>\n",
       "    </tr>\n",
       "    <tr>\n",
       "      <th>std</th>\n",
       "      <td>119.755634</td>\n",
       "      <td>13.023426</td>\n",
       "      <td>0.113920</td>\n",
       "      <td>4075.766926</td>\n",
       "      <td>28.990673</td>\n",
       "      <td>1.088694</td>\n",
       "      <td>1.089923</td>\n",
       "      <td>1.093581</td>\n",
       "      <td>1.088619</td>\n",
       "      <td>0.672413</td>\n",
       "      <td>65225.567649</td>\n",
       "      <td>31.723517</td>\n",
       "      <td>94.621476</td>\n",
       "      <td>12.651043</td>\n",
       "      <td>103.661283</td>\n",
       "    </tr>\n",
       "    <tr>\n",
       "      <th>min</th>\n",
       "      <td>20.126400</td>\n",
       "      <td>55.920000</td>\n",
       "      <td>0.129000</td>\n",
       "      <td>19781.355000</td>\n",
       "      <td>76.400000</td>\n",
       "      <td>3.840000</td>\n",
       "      <td>4.035000</td>\n",
       "      <td>3.840000</td>\n",
       "      <td>4.030000</td>\n",
       "      <td>6.600000</td>\n",
       "      <td>215432.000000</td>\n",
       "      <td>0.000000</td>\n",
       "      <td>201.632000</td>\n",
       "      <td>3.000000</td>\n",
       "      <td>333.000000</td>\n",
       "    </tr>\n",
       "    <tr>\n",
       "      <th>25%</th>\n",
       "      <td>21.321950</td>\n",
       "      <td>63.250000</td>\n",
       "      <td>0.419000</td>\n",
       "      <td>32721.727500</td>\n",
       "      <td>111.175000</td>\n",
       "      <td>7.092500</td>\n",
       "      <td>7.252500</td>\n",
       "      <td>7.123750</td>\n",
       "      <td>7.273750</td>\n",
       "      <td>7.320000</td>\n",
       "      <td>436793.500000</td>\n",
       "      <td>133.360000</td>\n",
       "      <td>223.804000</td>\n",
       "      <td>26.000000</td>\n",
       "      <td>451.000000</td>\n",
       "    </tr>\n",
       "    <tr>\n",
       "      <th>50%</th>\n",
       "      <td>23.214700</td>\n",
       "      <td>69.030000</td>\n",
       "      <td>0.494500</td>\n",
       "      <td>34593.762500</td>\n",
       "      <td>142.250000</td>\n",
       "      <td>7.995000</td>\n",
       "      <td>8.157500</td>\n",
       "      <td>7.990000</td>\n",
       "      <td>8.140000</td>\n",
       "      <td>7.960000</td>\n",
       "      <td>474930.000000</td>\n",
       "      <td>159.720000</td>\n",
       "      <td>246.680000</td>\n",
       "      <td>39.000000</td>\n",
       "      <td>510.000000</td>\n",
       "    </tr>\n",
       "    <tr>\n",
       "      <th>75%</th>\n",
       "      <td>34.638300</td>\n",
       "      <td>82.840000</td>\n",
       "      <td>0.558000</td>\n",
       "      <td>37142.118750</td>\n",
       "      <td>165.400000</td>\n",
       "      <td>8.725000</td>\n",
       "      <td>8.912500</td>\n",
       "      <td>8.740000</td>\n",
       "      <td>8.931250</td>\n",
       "      <td>8.400000</td>\n",
       "      <td>507690.500000</td>\n",
       "      <td>183.210000</td>\n",
       "      <td>283.444000</td>\n",
       "      <td>50.000000</td>\n",
       "      <td>571.000000</td>\n",
       "    </tr>\n",
       "    <tr>\n",
       "      <th>max</th>\n",
       "      <td>1799.524000</td>\n",
       "      <td>106.300000</td>\n",
       "      <td>0.615000</td>\n",
       "      <td>48772.900000</td>\n",
       "      <td>173.500000</td>\n",
       "      <td>9.435000</td>\n",
       "      <td>9.540000</td>\n",
       "      <td>9.425000</td>\n",
       "      <td>9.635000</td>\n",
       "      <td>9.400000</td>\n",
       "      <td>567784.000000</td>\n",
       "      <td>217.520000</td>\n",
       "      <td>2022.400000</td>\n",
       "      <td>60.000000</td>\n",
       "      <td>868.000000</td>\n",
       "    </tr>\n",
       "  </tbody>\n",
       "</table>\n",
       "</div>"
      ],
      "text/plain": [
       "       Marketin_expense  Production_expense  Multiplex_coverage        Budget  \\\n",
       "count        400.000000          400.000000          400.000000    400.000000   \n",
       "mean          55.017180           73.832700            0.469881  35197.771537   \n",
       "std          119.755634           13.023426            0.113920   4075.766926   \n",
       "min           20.126400           55.920000            0.129000  19781.355000   \n",
       "25%           21.321950           63.250000            0.419000  32721.727500   \n",
       "50%           23.214700           69.030000            0.494500  34593.762500   \n",
       "75%           34.638300           82.840000            0.558000  37142.118750   \n",
       "max         1799.524000          106.300000            0.615000  48772.900000   \n",
       "\n",
       "       Movie_length  Lead_ Actor_Rating  Lead_Actress_rating  Director_rating  \\\n",
       "count    400.000000          400.000000           400.000000       400.000000   \n",
       "mean     137.581750            7.810275             7.982812         7.813375   \n",
       "std       28.990673            1.088694             1.089923         1.093581   \n",
       "min       76.400000            3.840000             4.035000         3.840000   \n",
       "25%      111.175000            7.092500             7.252500         7.123750   \n",
       "50%      142.250000            7.995000             8.157500         7.990000   \n",
       "75%      165.400000            8.725000             8.912500         8.740000   \n",
       "max      173.500000            9.435000             9.540000         9.425000   \n",
       "\n",
       "       Producer_rating  Critic_rating  Trailer_views  Time_taken  \\\n",
       "count       400.000000     400.000000     400.000000  392.000000   \n",
       "mean          7.993887       7.894100  463223.567500  157.790000   \n",
       "std           1.088619       0.672413   65225.567649   31.723517   \n",
       "min           4.030000       6.600000  215432.000000    0.000000   \n",
       "25%           7.273750       7.320000  436793.500000  133.360000   \n",
       "50%           8.140000       7.960000  474930.000000  159.720000   \n",
       "75%           8.931250       8.400000  507690.500000  183.210000   \n",
       "max           9.635000       9.400000  567784.000000  217.520000   \n",
       "\n",
       "       Twitter_hastags  Avg_age_actors  Num_multiplex  \n",
       "count       400.000000      400.000000     400.000000  \n",
       "mean        258.083840       38.715000     523.650000  \n",
       "std          94.621476       12.651043     103.661283  \n",
       "min         201.632000        3.000000     333.000000  \n",
       "25%         223.804000       26.000000     451.000000  \n",
       "50%         246.680000       39.000000     510.000000  \n",
       "75%         283.444000       50.000000     571.000000  \n",
       "max        2022.400000       60.000000     868.000000  "
      ]
     },
     "execution_count": 7,
     "metadata": {},
     "output_type": "execute_result"
    }
   ],
   "source": [
    "collection.describe()"
   ]
  },
  {
   "cell_type": "code",
   "execution_count": 11,
   "metadata": {},
   "outputs": [],
   "source": [
    "collection.Time_taken.fillna(value=collection.Time_taken.mean(), inplace=True)"
   ]
  },
  {
   "cell_type": "code",
   "execution_count": 12,
   "metadata": {},
   "outputs": [
    {
     "data": {
      "text/html": [
       "<div>\n",
       "<style scoped>\n",
       "    .dataframe tbody tr th:only-of-type {\n",
       "        vertical-align: middle;\n",
       "    }\n",
       "\n",
       "    .dataframe tbody tr th {\n",
       "        vertical-align: top;\n",
       "    }\n",
       "\n",
       "    .dataframe thead th {\n",
       "        text-align: right;\n",
       "    }\n",
       "</style>\n",
       "<table border=\"1\" class=\"dataframe\">\n",
       "  <thead>\n",
       "    <tr style=\"text-align: right;\">\n",
       "      <th></th>\n",
       "      <th>Marketin_expense</th>\n",
       "      <th>Production_expense</th>\n",
       "      <th>Multiplex_coverage</th>\n",
       "      <th>Budget</th>\n",
       "      <th>Movie_length</th>\n",
       "      <th>Lead_ Actor_Rating</th>\n",
       "      <th>Lead_Actress_rating</th>\n",
       "      <th>Director_rating</th>\n",
       "      <th>Producer_rating</th>\n",
       "      <th>Critic_rating</th>\n",
       "      <th>Trailer_views</th>\n",
       "      <th>Time_taken</th>\n",
       "      <th>Twitter_hastags</th>\n",
       "      <th>Avg_age_actors</th>\n",
       "      <th>Num_multiplex</th>\n",
       "    </tr>\n",
       "  </thead>\n",
       "  <tbody>\n",
       "    <tr>\n",
       "      <th>count</th>\n",
       "      <td>400.000000</td>\n",
       "      <td>400.000000</td>\n",
       "      <td>400.000000</td>\n",
       "      <td>400.000000</td>\n",
       "      <td>400.000000</td>\n",
       "      <td>400.000000</td>\n",
       "      <td>400.000000</td>\n",
       "      <td>400.000000</td>\n",
       "      <td>400.000000</td>\n",
       "      <td>400.000000</td>\n",
       "      <td>400.000000</td>\n",
       "      <td>400.000000</td>\n",
       "      <td>400.000000</td>\n",
       "      <td>400.000000</td>\n",
       "      <td>400.000000</td>\n",
       "    </tr>\n",
       "    <tr>\n",
       "      <th>mean</th>\n",
       "      <td>55.017180</td>\n",
       "      <td>73.832700</td>\n",
       "      <td>0.469881</td>\n",
       "      <td>35197.771537</td>\n",
       "      <td>137.581750</td>\n",
       "      <td>7.810275</td>\n",
       "      <td>7.982812</td>\n",
       "      <td>7.813375</td>\n",
       "      <td>7.993887</td>\n",
       "      <td>7.894100</td>\n",
       "      <td>463223.567500</td>\n",
       "      <td>157.790000</td>\n",
       "      <td>258.083840</td>\n",
       "      <td>38.715000</td>\n",
       "      <td>523.650000</td>\n",
       "    </tr>\n",
       "    <tr>\n",
       "      <th>std</th>\n",
       "      <td>119.755634</td>\n",
       "      <td>13.023426</td>\n",
       "      <td>0.113920</td>\n",
       "      <td>4075.766926</td>\n",
       "      <td>28.990673</td>\n",
       "      <td>1.088694</td>\n",
       "      <td>1.089923</td>\n",
       "      <td>1.093581</td>\n",
       "      <td>1.088619</td>\n",
       "      <td>0.672413</td>\n",
       "      <td>65225.567649</td>\n",
       "      <td>31.403877</td>\n",
       "      <td>94.621476</td>\n",
       "      <td>12.651043</td>\n",
       "      <td>103.661283</td>\n",
       "    </tr>\n",
       "    <tr>\n",
       "      <th>min</th>\n",
       "      <td>20.126400</td>\n",
       "      <td>55.920000</td>\n",
       "      <td>0.129000</td>\n",
       "      <td>19781.355000</td>\n",
       "      <td>76.400000</td>\n",
       "      <td>3.840000</td>\n",
       "      <td>4.035000</td>\n",
       "      <td>3.840000</td>\n",
       "      <td>4.030000</td>\n",
       "      <td>6.600000</td>\n",
       "      <td>215432.000000</td>\n",
       "      <td>0.000000</td>\n",
       "      <td>201.632000</td>\n",
       "      <td>3.000000</td>\n",
       "      <td>333.000000</td>\n",
       "    </tr>\n",
       "    <tr>\n",
       "      <th>25%</th>\n",
       "      <td>21.321950</td>\n",
       "      <td>63.250000</td>\n",
       "      <td>0.419000</td>\n",
       "      <td>32721.727500</td>\n",
       "      <td>111.175000</td>\n",
       "      <td>7.092500</td>\n",
       "      <td>7.252500</td>\n",
       "      <td>7.123750</td>\n",
       "      <td>7.273750</td>\n",
       "      <td>7.320000</td>\n",
       "      <td>436793.500000</td>\n",
       "      <td>133.550000</td>\n",
       "      <td>223.804000</td>\n",
       "      <td>26.000000</td>\n",
       "      <td>451.000000</td>\n",
       "    </tr>\n",
       "    <tr>\n",
       "      <th>50%</th>\n",
       "      <td>23.214700</td>\n",
       "      <td>69.030000</td>\n",
       "      <td>0.494500</td>\n",
       "      <td>34593.762500</td>\n",
       "      <td>142.250000</td>\n",
       "      <td>7.995000</td>\n",
       "      <td>8.157500</td>\n",
       "      <td>7.990000</td>\n",
       "      <td>8.140000</td>\n",
       "      <td>7.960000</td>\n",
       "      <td>474930.000000</td>\n",
       "      <td>158.760000</td>\n",
       "      <td>246.680000</td>\n",
       "      <td>39.000000</td>\n",
       "      <td>510.000000</td>\n",
       "    </tr>\n",
       "    <tr>\n",
       "      <th>75%</th>\n",
       "      <td>34.638300</td>\n",
       "      <td>82.840000</td>\n",
       "      <td>0.558000</td>\n",
       "      <td>37142.118750</td>\n",
       "      <td>165.400000</td>\n",
       "      <td>8.725000</td>\n",
       "      <td>8.912500</td>\n",
       "      <td>8.740000</td>\n",
       "      <td>8.931250</td>\n",
       "      <td>8.400000</td>\n",
       "      <td>507690.500000</td>\n",
       "      <td>182.890000</td>\n",
       "      <td>283.444000</td>\n",
       "      <td>50.000000</td>\n",
       "      <td>571.000000</td>\n",
       "    </tr>\n",
       "    <tr>\n",
       "      <th>max</th>\n",
       "      <td>1799.524000</td>\n",
       "      <td>106.300000</td>\n",
       "      <td>0.615000</td>\n",
       "      <td>48772.900000</td>\n",
       "      <td>173.500000</td>\n",
       "      <td>9.435000</td>\n",
       "      <td>9.540000</td>\n",
       "      <td>9.425000</td>\n",
       "      <td>9.635000</td>\n",
       "      <td>9.400000</td>\n",
       "      <td>567784.000000</td>\n",
       "      <td>217.520000</td>\n",
       "      <td>2022.400000</td>\n",
       "      <td>60.000000</td>\n",
       "      <td>868.000000</td>\n",
       "    </tr>\n",
       "  </tbody>\n",
       "</table>\n",
       "</div>"
      ],
      "text/plain": [
       "       Marketin_expense  Production_expense  Multiplex_coverage        Budget  \\\n",
       "count        400.000000          400.000000          400.000000    400.000000   \n",
       "mean          55.017180           73.832700            0.469881  35197.771537   \n",
       "std          119.755634           13.023426            0.113920   4075.766926   \n",
       "min           20.126400           55.920000            0.129000  19781.355000   \n",
       "25%           21.321950           63.250000            0.419000  32721.727500   \n",
       "50%           23.214700           69.030000            0.494500  34593.762500   \n",
       "75%           34.638300           82.840000            0.558000  37142.118750   \n",
       "max         1799.524000          106.300000            0.615000  48772.900000   \n",
       "\n",
       "       Movie_length  Lead_ Actor_Rating  Lead_Actress_rating  Director_rating  \\\n",
       "count    400.000000          400.000000           400.000000       400.000000   \n",
       "mean     137.581750            7.810275             7.982812         7.813375   \n",
       "std       28.990673            1.088694             1.089923         1.093581   \n",
       "min       76.400000            3.840000             4.035000         3.840000   \n",
       "25%      111.175000            7.092500             7.252500         7.123750   \n",
       "50%      142.250000            7.995000             8.157500         7.990000   \n",
       "75%      165.400000            8.725000             8.912500         8.740000   \n",
       "max      173.500000            9.435000             9.540000         9.425000   \n",
       "\n",
       "       Producer_rating  Critic_rating  Trailer_views  Time_taken  \\\n",
       "count       400.000000     400.000000     400.000000  400.000000   \n",
       "mean          7.993887       7.894100  463223.567500  157.790000   \n",
       "std           1.088619       0.672413   65225.567649   31.403877   \n",
       "min           4.030000       6.600000  215432.000000    0.000000   \n",
       "25%           7.273750       7.320000  436793.500000  133.550000   \n",
       "50%           8.140000       7.960000  474930.000000  158.760000   \n",
       "75%           8.931250       8.400000  507690.500000  182.890000   \n",
       "max           9.635000       9.400000  567784.000000  217.520000   \n",
       "\n",
       "       Twitter_hastags  Avg_age_actors  Num_multiplex  \n",
       "count       400.000000      400.000000     400.000000  \n",
       "mean        258.083840       38.715000     523.650000  \n",
       "std          94.621476       12.651043     103.661283  \n",
       "min         201.632000        3.000000     333.000000  \n",
       "25%         223.804000       26.000000     451.000000  \n",
       "50%         246.680000       39.000000     510.000000  \n",
       "75%         283.444000       50.000000     571.000000  \n",
       "max        2022.400000       60.000000     868.000000  "
      ]
     },
     "execution_count": 12,
     "metadata": {},
     "output_type": "execute_result"
    }
   ],
   "source": [
    "collection.describe()"
   ]
  },
  {
   "cell_type": "code",
   "execution_count": 22,
   "metadata": {},
   "outputs": [
    {
     "data": {
      "text/plain": [
       "<Figure size 432x288 with 0 Axes>"
      ]
     },
     "metadata": {},
     "output_type": "display_data"
    }
   ],
   "source": [
    "fig = plt.figure()"
   ]
  },
  {
   "cell_type": "code",
   "execution_count": 42,
   "metadata": {},
   "outputs": [
    {
     "data": {
      "text/plain": [
       "<seaborn.axisgrid.JointGrid at 0x28814e0668>"
      ]
     },
     "execution_count": 42,
     "metadata": {},
     "output_type": "execute_result"
    },
    {
     "data": {
      "image/png": "[encoded data removed]",
      "text/plain": [
       "<Figure size 432x432 with 3 Axes>"
      ]
     },
     "metadata": {
      "needs_background": "light"
     },
     "output_type": "display_data"
    }
   ],
   "source": [
    "sns.jointplot(x=\"Budget\", y='Marketin_expense', data=collection)"
   ]
  },
  {
   "cell_type": "code",
   "execution_count": 30,
   "metadata": {},
   "outputs": [
    {
     "data": {
      "text/plain": [
       "RangeIndex(start=0, stop=400, step=1)"
      ]
     },
     "execution_count": 30,
     "metadata": {},
     "output_type": "execute_result"
    }
   ],
   "source": [
    "collection.index"
   ]
  },
  {
   "cell_type": "markdown",
   "metadata": {},
   "source": [
    "### log transformation\n"
   ]
  },
  {
   "cell_type": "code",
   "execution_count": 37,
   "metadata": {},
   "outputs": [],
   "source": [
    "new_budget = np.log1p(collection.Budget)"
   ]
  },
  {
   "cell_type": "code",
   "execution_count": 38,
   "metadata": {},
   "outputs": [
    {
     "data": {
      "text/plain": [
       "0      10.505756\n",
       "1      10.482056\n",
       "2      10.594474\n",
       "3      10.568104\n",
       "4      10.589172\n",
       "         ...    \n",
       "395    10.489812\n",
       "396    10.479561\n",
       "397    10.371163\n",
       "398    10.318653\n",
       "399    10.389268\n",
       "Name: Budget, Length: 400, dtype: float64"
      ]
     },
     "execution_count": 38,
     "metadata": {},
     "output_type": "execute_result"
    }
   ],
   "source": [
    "new_budget"
   ]
  },
  {
   "cell_type": "code",
   "execution_count": 40,
   "metadata": {},
   "outputs": [
    {
     "data": {
      "text/plain": [
       "<seaborn.axisgrid.JointGrid at 0x288a7c05f8>"
      ]
     },
     "execution_count": 40,
     "metadata": {},
     "output_type": "execute_result"
    },
    {
     "data": {
      "image/png": "[encoded data removed]",
      "text/plain": [
       "<Figure size 432x432 with 3 Axes>"
      ]
     },
     "metadata": {
      "needs_background": "light"
     },
     "output_type": "display_data"
    }
   ],
   "source": [
    "sns.jointplot(x=new_budget, y='Marketin_expense', data=collection)"
   ]
  },
  {
   "cell_type": "markdown",
   "metadata": {},
   "source": [
    "## Twitter_hastags"
   ]
  },
  {
   "cell_type": "code",
   "execution_count": 41,
   "metadata": {},
   "outputs": [
    {
     "data": {
      "text/plain": [
       "<seaborn.axisgrid.JointGrid at 0x28860886d8>"
      ]
     },
     "execution_count": 41,
     "metadata": {},
     "output_type": "execute_result"
    },
    {
     "data": {
      "image/png": "[encoded data removed]",
      "text/plain": [
       "<Figure size 432x432 with 3 Axes>"
      ]
     },
     "metadata": {
      "needs_background": "light"
     },
     "output_type": "display_data"
    }
   ],
   "source": [
    "sns.jointplot(x='Twitter_hastags', y='Marketin_expense', data=collection)"
   ]
  },
  {
   "cell_type": "markdown",
   "metadata": {},
   "source": [
    "## Num_multiplex"
   ]
  },
  {
   "cell_type": "code",
   "execution_count": 43,
   "metadata": {},
   "outputs": [
    {
     "data": {
      "text/plain": [
       "<seaborn.axisgrid.JointGrid at 0x289960a278>"
      ]
     },
     "execution_count": 43,
     "metadata": {},
     "output_type": "execute_result"
    },
    {
     "data": {
      "image/png": "[encoded data removed]",
      "text/plain": [
       "<Figure size 432x432 with 3 Axes>"
      ]
     },
     "metadata": {
      "needs_background": "light"
     },
     "output_type": "display_data"
    }
   ],
   "source": [
    "sns.jointplot(x='Num_multiplex', y='Marketin_expense', data=collection)"
   ]
  },
  {
   "cell_type": "markdown",
   "metadata": {},
   "source": [
    "## Time_taken"
   ]
  },
  {
   "cell_type": "code",
   "execution_count": 44,
   "metadata": {},
   "outputs": [
    {
     "data": {
      "text/plain": [
       "<seaborn.axisgrid.JointGrid at 0x289960aeb8>"
      ]
     },
     "execution_count": 44,
     "metadata": {},
     "output_type": "execute_result"
    },
    {
     "data": {
      "image/png": "[encoded data removed]",
      "text/plain": [
       "<Figure size 432x432 with 3 Axes>"
      ]
     },
     "metadata": {
      "needs_background": "light"
     },
     "output_type": "display_data"
    }
   ],
   "source": [
    "sns.jointplot(x='Time_taken', y='Marketin_expense', data=collection)"
   ]
  },
  {
   "cell_type": "markdown",
   "metadata": {},
   "source": [
    "## Trailer_views"
   ]
  },
  {
   "cell_type": "code",
   "execution_count": 51,
   "metadata": {},
   "outputs": [
    {
     "data": {
      "text/plain": [
       "<seaborn.axisgrid.JointGrid at 0x2882f64828>"
      ]
     },
     "execution_count": 51,
     "metadata": {},
     "output_type": "execute_result"
    },
    {
     "data": {
      "image/png": "[encoded data removed]",
      "text/plain": [
       "<Figure size 432x432 with 3 Axes>"
      ]
     },
     "metadata": {
      "needs_background": "light"
     },
     "output_type": "display_data"
    }
   ],
   "source": [
    "sns.jointplot(x='Trailer_views', y='Marketin_expense', data=collection)"
   ]
  },
  {
   "cell_type": "markdown",
   "metadata": {},
   "source": [
    "## Movie_length"
   ]
  },
  {
   "cell_type": "code",
   "execution_count": 52,
   "metadata": {},
   "outputs": [
    {
     "data": {
      "text/plain": [
       "<seaborn.axisgrid.JointGrid at 0x2882fd4cc0>"
      ]
     },
     "execution_count": 52,
     "metadata": {},
     "output_type": "execute_result"
    },
    {
     "data": {
      "image/png": "[encoded data removed]",
      "text/plain": [
       "<Figure size 432x432 with 3 Axes>"
      ]
     },
     "metadata": {
      "needs_background": "light"
     },
     "output_type": "display_data"
    }
   ],
   "source": [
    "sns.jointplot(x='Movie_length', y='Marketin_expense', data=collection)"
   ]
  },
  {
   "cell_type": "code",
   "execution_count": 56,
   "metadata": {},
   "outputs": [],
   "source": [
    "log_m_length = 1/(collection.Movie_length)"
   ]
  },
  {
   "cell_type": "code",
   "execution_count": 57,
   "metadata": {},
   "outputs": [
    {
     "data": {
      "text/plain": [
       "<seaborn.axisgrid.JointGrid at 0x288312c780>"
      ]
     },
     "execution_count": 57,
     "metadata": {},
     "output_type": "execute_result"
    },
    {
     "data": {
      "image/png": "[encoded data removed]",
      "text/plain": [
       "<Figure size 432x432 with 3 Axes>"
      ]
     },
     "metadata": {
      "needs_background": "light"
     },
     "output_type": "display_data"
    }
   ],
   "source": [
    "sns.jointplot(x=log_m_length, y='Marketin_expense', data=collection)"
   ]
  },
  {
   "cell_type": "code",
   "execution_count": 61,
   "metadata": {},
   "outputs": [],
   "source": [
    "from sklearn.preprocessing import StandardScaler\n",
    "scaler = StandardScaler()\n",
    "data = pd.DataFrame(collection.Movie_length)"
   ]
  },
  {
   "cell_type": "code",
   "execution_count": 63,
   "metadata": {},
   "outputs": [],
   "source": [
    "std_m_length = scaler.fit_transform(data)"
   ]
  },
  {
   "cell_type": "code",
   "execution_count": 69,
   "metadata": {},
   "outputs": [],
   "source": [
    "std_m_length1 = std_m_length.reshape(1, -1)[0]"
   ]
  },
  {
   "cell_type": "code",
   "execution_count": 70,
   "metadata": {},
   "outputs": [
    {
     "data": {
      "text/plain": [
       "<seaborn.axisgrid.JointGrid at 0x2883c444e0>"
      ]
     },
     "execution_count": 70,
     "metadata": {},
     "output_type": "execute_result"
    },
    {
     "data": {
      "image/png": "[encoded data removed]",
      "text/plain": [
       "<Figure size 432x432 with 3 Axes>"
      ]
     },
     "metadata": {
      "needs_background": "light"
     },
     "output_type": "display_data"
    }
   ],
   "source": [
    "sns.jointplot(x=std_m_length1, y='Marketin_expense', data=collection)"
   ]
  },
  {
   "cell_type": "code",
   "execution_count": null,
   "metadata": {},
   "outputs": [],
   "source": []
  }
 ],
 "metadata": {
  "kernelspec": {
   "display_name": "Python 3",
   "language": "python",
   "name": "python3"
  },
  "language_info": {
   "codemirror_mode": {
    "name": "ipython",
    "version": 3
   },
   "file_extension": ".py",
   "mimetype": "text/x-python",
   "name": "python",
   "nbconvert_exporter": "python",
   "pygments_lexer": "ipython3",
   "version": "3.6.4"
  }
 },
 "nbformat": 4,
 "nbformat_minor": 2
}
